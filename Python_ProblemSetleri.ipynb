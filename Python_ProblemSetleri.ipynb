{
  "nbformat": 4,
  "nbformat_minor": 0,
  "metadata": {
    "colab": {
      "name": "Python_ProblemSetleri.ipynb",
      "provenance": [],
      "collapsed_sections": [],
      "authorship_tag": "ABX9TyMNAoo+ZUE15+JeuBktGETH",
      "include_colab_link": true
    },
    "kernelspec": {
      "name": "python3",
      "display_name": "Python 3"
    }
  },
  "cells": [
    {
      "cell_type": "markdown",
      "metadata": {
        "id": "view-in-github",
        "colab_type": "text"
      },
      "source": [
        "<a href=\"https://colab.research.google.com/github/secildemirezen/PG1926---Problem-Setleri/blob/main/Python_ProblemSetleri.ipynb\" target=\"_parent\"><img src=\"https://colab.research.google.com/assets/colab-badge.svg\" alt=\"Open In Colab\"/></a>"
      ]
    },
    {
      "cell_type": "code",
      "metadata": {
        "id": "aoP3irs7lt7U"
      },
      "source": [
        "# Python  - Problem Set - 1 #\r\n",
        "\r\n",
        "###### FizzBuzz ######\r\n",
        "\r\n",
        "sayi = 0\r\n",
        "while sayi < 100:   \r\n",
        "  sayi += 1       \r\n",
        "  if ((sayi % 3) == 0) and ((sayi % 5) == 0):\r\n",
        "    print(\"FizzBuzz\")\r\n",
        "  elif sayi % 3 == 0:\r\n",
        "    print (\"Fizz\")\r\n",
        "  elif sayi % 5 == 0:\r\n",
        "    print (\"Buzz\")\r\n",
        "  else:\r\n",
        "    print (sayi)\r\n"
      ],
      "execution_count": null,
      "outputs": []
    },
    {
      "cell_type": "code",
      "metadata": {
        "id": "wgLoW4jGm1Hc"
      },
      "source": [
        "# Python  - Problem Set - 2 #\r\n"
      ],
      "execution_count": null,
      "outputs": []
    },
    {
      "cell_type": "code",
      "metadata": {
        "id": "952VUb6yl6nw"
      },
      "source": [
        "# Python  - Problem Set - 3 #\r\n",
        "\r\n",
        "###### SIFIRI TAŞI ######\r\n",
        "\r\n",
        "listeSayi=[]\r\n",
        "adet=1\r\n",
        "while adet<=5:\r\n",
        "  print(adet,end=\".\")\r\n",
        "  listeSayi.append(int (input(\"Sayıyı giriniz: \")))\r\n",
        "  adet+=1\r\n",
        "sifirlar=listeSayi.count(0)\r\n",
        "if 0 in listeSayi:\r\n",
        "  i=0\r\n",
        "  while i<sifirlar:\r\n",
        "    i+=1\r\n",
        "    print('0',end=\",\")\r\n",
        "    listeSayi.remove(0)\r\n",
        "  print(listeSayi)\r\n",
        "else:\r\n",
        "  print(listeSayi)\r\n"
      ],
      "execution_count": null,
      "outputs": []
    },
    {
      "cell_type": "code",
      "metadata": {
        "id": "3QnvmiMJmMh6"
      },
      "source": [
        "# Python  - Problem Set - 4 #\r\n",
        "\r\n",
        "###### TEK SAYI GÜNCELLEME ######\r\n",
        "\r\n",
        "listeSayi=[]\r\n",
        "adet=1\r\n",
        "while adet<=5:\r\n",
        "  print(adet,end=\".\")\r\n",
        "  listeSayi.append(int (input(\"Sayıyı giriniz: \")))\r\n",
        "  adet+=1\r\n",
        "buyuk=max(listeSayi)\r\n",
        "if buyuk % 2==1:\r\n",
        "  print(listeSayi)\r\n",
        "  print(\"Listedeki En Büyük Tek Sayı:\",enbuyuk)\r\n",
        "elif buyuk % 2==0:\r\n",
        "  print(listeSayi)\r\n",
        "  print(\"Listedeki En Büyük Çift Sayı:\",enbuyuk)\r\n"
      ],
      "execution_count": null,
      "outputs": []
    },
    {
      "cell_type": "code",
      "metadata": {
        "id": "Qi9IqKPcmRnk"
      },
      "source": [
        "# Python  - Problem Set - 5 #\r\n",
        "\r\n",
        "###### HAYALİMDEKİ OKUL YAPISI ######\r\n",
        "\r\n",
        "class Okul1():\r\n",
        "  okulAdi = \"A Okulu\"\r\n",
        "  siniflar = 9,10,11,12\r\n",
        "  subeler = [\"A\",\"B\",\"C\",\"D\",\"E\"]\r\n",
        "  ogretmenler = [\"Ayşe\",\"Fatma\",\"Ali\",\"Ahmet\",\"Mehmet\"]\r\n",
        "  ogrenciler = [\"Büşra\",\"Can\",\"Deniz\",\"Berk\"]\r\n",
        "  dersler = [\"Matematik\",\"Türkçe\",\"Biyoloji\",\"Fizik\"]\r\n",
        "class Okul2():\r\n",
        "  okulAdi = \"B Okulu\"\r\n",
        "  siniflar = 9,10,11,12\r\n",
        "  subeler = [\"A\",\"B\",\"C\",\"D\",\"E\"]\r\n",
        "  ogretmenler = [\"Can\",\"Yeşim\",\"Ali\",\"Derya\",\"Murat\"]\r\n",
        "  ogrenciler = [\"Şeyma\",\"Fatih\",\"Aykan\",\"Eren\",\"Sevil\"]\r\n",
        "  dersler = [\"Matematik\",\"Türkçe\",\"Tarih\",\"Coğrafya\",\"Vatandaşlık\"]\r\n",
        "class Okul3():\r\n",
        "  okulAdi = \"C Okulu\"\r\n",
        "  siniflar = 9,10,11,12\r\n",
        "  subeler = [\"A\",\"B\",\"C\",\"D\",\"E\"]\r\n",
        "  ogretmenler = [\"Özlem\",\"Esra\",\"Merve\",\"Seçil\"]\r\n",
        "  ogrenciler = [\"Zeliha\",\"Songül\",\"Kezban\",\"Rabia\"]\r\n",
        "  dersler = [\"Grafik Tasarım\",\"Web Tasarım\",\"Matematik\",\"Türkçe\"]\r\n",
        "  \r\n",
        "  branslar=[]\r\n",
        "  def __init__(self,brans):\r\n",
        "    self.brans=brans\r\n",
        "    self.brans_ekle()\r\n",
        "    self.branslar_goruntule()\r\n",
        "  def brans_ekle(self):\r\n",
        "    self.branslar.append(self.brans)\r\n",
        "    print('{} adlı branş, branşlar listesine eklendi'.format(self.brans))\r\n",
        "  def branslar_goruntule(self):\r\n",
        "    print(\"Branşlar Listesi: \")\r\n",
        "    for ad in self.branslar:\r\n",
        "      print(ad)\r\n",
        "\r\n",
        "a=Okul3(\"Bilişim\")\r\n",
        "b=Okul3(\"Okul Öncesi\")\r\n",
        "\r\n",
        "print(Okul1.okulAdi,\"\\n\",Okul2.okulAdi,\"\\n\",Okul3.okulAdi)\r\n",
        "Okul1.dersler.append(\"Kimya\") \r\n",
        "print(Okul1.dersler)\r\n",
        "Okul3.ogretmenler.append(\"Hamza\")\r\n",
        "print(Okul3.ogretmenler)\r\n"
      ],
      "execution_count": null,
      "outputs": []
    }
  ]
}